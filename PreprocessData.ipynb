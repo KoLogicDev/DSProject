{
 "cells": [
  {
   "cell_type": "code",
   "execution_count": null,
   "metadata": {
    "collapsed": true
   },
   "outputs": [],
   "source": [
    "!pip install pyarrow\n",
    "!pip install plotly\n",
    "!pip install orion\n",
    "!pip install tqdm\n",
    "!pip install pandarallel\n",
    "!pip install seaborn"
   ]
  },
  {
   "cell_type": "markdown",
   "source": [
    "# Operating data"
   ],
   "metadata": {
    "collapsed": false
   }
  },
  {
   "cell_type": "code",
   "execution_count": 12,
   "outputs": [],
   "source": [
    "# Process operating data\n",
    "import os\n",
    "from datetime import datetime\n",
    "import pandas as pd\n",
    "\n",
    "\n",
    "def load_operating_data_from_sdv_file(filename, country):\n",
    "    with open(filename, 'r', encoding='cp1252') as f:\n",
    "        lines = f.readlines()\n",
    "        data = []\n",
    "        bidding_areas = {}\n",
    "        for line in lines:\n",
    "            if line.startswith('#') or line.startswith('ST') or line.startswith('AL'): continue\n",
    "            if line.startswith('BE'):\n",
    "                parts = line.split(';')\n",
    "                code, name = parts[1], parts[2]\n",
    "                bidding_areas[code] = name.strip()\n",
    "                continue\n",
    "            fields_raw = line.split(';')\n",
    "            fields = [country]\n",
    "            # Datatype\n",
    "            fields.append(fields_raw[0])\n",
    "            # Code\n",
    "            fields.append(fields_raw[1])\n",
    "            # Date\n",
    "            date = fields_raw[5]\n",
    "            if date[-3:-1] == '.9': date = date[:-2] + '19' + date[-2:]\n",
    "            fields.append(datetime.strptime(date, '%d.%m.%Y'))\n",
    "            # Bidding area\n",
    "            fields.append(bidding_areas.get(fields_raw[6], fields_raw[6]))\n",
    "            # Data\n",
    "            fields.extend([float(x.strip().replace(',', '.')) if x.strip() else None for x in fields_raw[7:32]])\n",
    "            # Sum\n",
    "            if len(fields_raw) == 33 and (s := fields_raw[32].replace(',', '.').strip()):\n",
    "                fields.append(s)\n",
    "            else:\n",
    "                fields.append(None)\n",
    "            fields.append(filename)\n",
    "            data.append(fields)\n",
    "    return data"
   ],
   "metadata": {
    "collapsed": false
   }
  },
  {
   "cell_type": "code",
   "execution_count": 13,
   "outputs": [
    {
     "name": "stdout",
     "output_type": "stream",
     "text": [
      "<class 'pandas.core.frame.DataFrame'>\n",
      "RangeIndex: 24611550 entries, 0 to 24611549\n",
      "Data columns (total 7 columns):\n",
      " #   Column        Dtype         \n",
      "---  ------        -----         \n",
      " 0   country       object        \n",
      " 1   datatype      object        \n",
      " 2   code          object        \n",
      " 3   date          datetime64[ns]\n",
      " 4   bidding_area  object        \n",
      " 5   hour          object        \n",
      " 6   value         float64       \n",
      "dtypes: datetime64[ns](1), float64(1), object(5)\n",
      "memory usage: 1.3+ GB\n"
     ]
    }
   ],
   "source": [
    "data = []\n",
    "# list all subfolders under a folder\n",
    "country_folders = [f.path for f in os.scandir('Operating_data') if f.is_dir() and f.name != 'Reservoir_inflow_figures']\n",
    "for country_folder in country_folders:\n",
    "    country = country_folder.split('/')[-1]\n",
    "    year_folders = [f.path for f in os.scandir(country_folder)\n",
    "                    if f.is_dir() and f.name.isdigit() and int(f.name) > 2013]\n",
    "    for year_folder in year_folders:\n",
    "        files = [f.path for f in os.scandir(year_folder) if f.is_file() and f.name.endswith('.sdv')]\n",
    "        for f in files: data.extend(load_operating_data_from_sdv_file(f, country))\n",
    "    files_2023 = [f.path for f in os.scandir(country_folder) if f.is_file() and ('23' in f.name)]\n",
    "    for f in files_2023: data.extend(load_operating_data_from_sdv_file(f, country))\n",
    "\n",
    "operating_data_df = pd.DataFrame(data,\n",
    "                                 columns=['country', 'datatype', 'code', 'date', 'bidding_area', 'time_1', 'time_2',\n",
    "                                          'time_3A', 'time_3B', 'time_4', 'time_5', 'time_6', 'time_7', 'time_8',\n",
    "                                          'time_9', 'time_10', 'time_11', 'time_12', 'time_13', 'time_14', 'time_15',\n",
    "                                          'time_16', 'time_17', 'time_18', 'time_19', 'time_20', 'time_21', 'time_22',\n",
    "                                          'time_23', 'time_24', 'sum', 'file'])\n",
    "operating_data_df = operating_data_df.drop(['sum', 'file'], axis=1)\n",
    "operating_data_df = operating_data_df.melt(id_vars=['country', 'datatype', 'code', \"date\", \"bidding_area\"],\n",
    "                                           var_name=\"hour\",\n",
    "                                           value_name=\"value\")\n",
    "operating_data_df.info()"
   ],
   "metadata": {
    "collapsed": false
   }
  },
  {
   "cell_type": "code",
   "execution_count": 14,
   "outputs": [
    {
     "name": "stdout",
     "output_type": "stream",
     "text": [
      "INFO: Pandarallel will run on 10 workers.\n",
      "INFO: Pandarallel will use standard multiprocessing data transfer (pipe) to transfer data between the main process and workers.\n"
     ]
    },
    {
     "data": {
      "text/plain": "VBox(children=(HBox(children=(IntProgress(value=0, description='0.00%', max=2461155), Label(value='0 / 2461155…",
      "application/vnd.jupyter.widget-view+json": {
       "version_major": 2,
       "version_minor": 0,
       "model_id": "e69d964fb4e84c268d558b65a2bd1625"
      }
     },
     "metadata": {},
     "output_type": "display_data"
    }
   ],
   "source": [
    "from pandarallel import pandarallel\n",
    "\n",
    "pandarallel.initialize(progress_bar=True)\n",
    "\n",
    "operating_data_df['hour'] = operating_data_df.parallel_apply(lambda x: x['hour'].split('_')[-1].rstrip('A').rstrip('B'),\n",
    "                                                             axis=1)"
   ],
   "metadata": {
    "collapsed": false
   }
  },
  {
   "cell_type": "code",
   "execution_count": 15,
   "outputs": [
    {
     "data": {
      "text/plain": "VBox(children=(HBox(children=(IntProgress(value=0, description='0.00%', max=2359002), Label(value='0 / 2359002…",
      "application/vnd.jupyter.widget-view+json": {
       "version_major": 2,
       "version_minor": 0,
       "model_id": "404d74a1051546dd9479c5504cf6daac"
      }
     },
     "metadata": {},
     "output_type": "display_data"
    },
    {
     "name": "stdout",
     "output_type": "stream",
     "text": [
      "<class 'pandas.core.frame.DataFrame'>\n",
      "RangeIndex: 23236237 entries, 0 to 23236236\n",
      "Data columns (total 6 columns):\n",
      " #   Column        Dtype         \n",
      "---  ------        -----         \n",
      " 0   date          datetime64[ns]\n",
      " 1   datatype      object        \n",
      " 2   country       object        \n",
      " 3   bidding_area  object        \n",
      " 4   code          object        \n",
      " 5   value         float64       \n",
      "dtypes: datetime64[ns](1), float64(1), object(4)\n",
      "memory usage: 1.0+ GB\n"
     ]
    }
   ],
   "source": [
    "operating_data_df.dropna(inplace=True, subset=['value'])\n",
    "operating_data_df['date'] = operating_data_df.parallel_apply(\n",
    "    lambda x: x['date'] + pd.to_timedelta(int(x['hour']) - 1, unit='h'), axis=1)\n",
    "operating_data_df.drop('hour', axis=1, inplace=True)\n",
    "operating_data_df = operating_data_df.groupby(['date', 'datatype', 'country', 'bidding_area', 'code'],\n",
    "                                              as_index=False).mean()\n",
    "operating_data_df.info()"
   ],
   "metadata": {
    "collapsed": false
   }
  },
  {
   "cell_type": "code",
   "execution_count": 16,
   "outputs": [
    {
     "name": "stdout",
     "output_type": "stream",
     "text": [
      "<class 'pandas.core.frame.DataFrame'>\n",
      "RangeIndex: 23236237 entries, 0 to 23236236\n",
      "Data columns (total 6 columns):\n",
      " #   Column        Dtype         \n",
      "---  ------        -----         \n",
      " 0   date          datetime64[ns]\n",
      " 1   datatype      category      \n",
      " 2   country       category      \n",
      " 3   bidding_area  category      \n",
      " 4   code          category      \n",
      " 5   value         float32       \n",
      "dtypes: category(4), datetime64[ns](1), float32(1)\n",
      "memory usage: 354.6 MB\n"
     ]
    }
   ],
   "source": [
    "operating_data_df.value = operating_data_df.value.astype('float32')\n",
    "operating_data_df.country = operating_data_df.country.astype('category')\n",
    "operating_data_df.bidding_area = operating_data_df.bidding_area.astype('category')\n",
    "operating_data_df.datatype = operating_data_df.datatype.astype('category')\n",
    "operating_data_df.code = operating_data_df.code.astype('category')\n",
    "operating_data_df.info()"
   ],
   "metadata": {
    "collapsed": false
   }
  },
  {
   "cell_type": "code",
   "execution_count": 17,
   "outputs": [],
   "source": [
    "operating_data_df.to_parquet('operating_data.parquet.gzip', compression='gzip')"
   ],
   "metadata": {
    "collapsed": false
   }
  },
  {
   "cell_type": "markdown",
   "source": [
    "# Spot price data"
   ],
   "metadata": {
    "collapsed": false
   }
  },
  {
   "cell_type": "code",
   "execution_count": 5,
   "outputs": [],
   "source": [
    "import os, regex as re\n",
    "from datetime import datetime\n",
    "import pandas as pd\n",
    "\n",
    "\n",
    "def load_spot_prices_from_sdv_file(filename, country, area=None):\n",
    "    with open(filename, 'r', encoding='cp1252') as f:\n",
    "        lines = f.readlines()\n",
    "        data = []\n",
    "\n",
    "        for line in lines:\n",
    "            if not re.match(r'^\\d{2}.\\d{2}.\\d{2}', line): continue\n",
    "            fields_raw = line.split(';')\n",
    "\n",
    "            # Date\n",
    "            date = datetime.strptime(fields_raw[0], '%d.%m.%y')\n",
    "            fields = [country, area, date]\n",
    "            # Data\n",
    "            fields.extend([float(x.strip().replace(',', '.'))\n",
    "                           if x.strip() else None for x in fields_raw[1:26]])\n",
    "            data.append(fields)\n",
    "    return data"
   ],
   "metadata": {
    "collapsed": false
   }
  },
  {
   "cell_type": "code",
   "execution_count": 26,
   "outputs": [],
   "source": [
    "\n",
    "data = []\n",
    "countries_with_areas = ['Denmark', 'Norway', 'Sweden']\n",
    "countries_without_areas = ['Estonia', 'Finland', 'Latvia', 'Lithuania']\n",
    "# list all subfolders under a folder\n",
    "country_folders = [f.path for f in os.scandir('Elspot/Elspot_prices') if f.is_dir()]\n",
    "# process countries with bidding areas\n",
    "for country_folder in [c for c in country_folders if c.split('/')[-1] in countries_with_areas]:\n",
    "    area_folders = [f.path for f in os.scandir(country_folder)\n",
    "                    if f.is_dir() and not f.name.isdigit()]\n",
    "    country = country_folder.split('/')[-1]\n",
    "    for area_folder in area_folders:\n",
    "        area = area_folder.split('/')[-1]\n",
    "        year_folders = [f.path for f in os.scandir(area_folder)\n",
    "                        if f.is_dir() and f.name.isdigit() and int(f.name) > 2013]\n",
    "        for year_folder in year_folders:\n",
    "            files = [f.path for f in os.scandir(year_folder)\n",
    "                     if f.is_file() and f.name.endswith('.sdv') and ('eur' in f.name)]\n",
    "            for f in files: data.extend(load_spot_prices_from_sdv_file(f, country, area))\n",
    "        files_2023 = [f.path for f in os.scandir(area_folder)\n",
    "                      if f.is_file() and f.name.endswith('.sdv') and ('eur' in f.name)]\n",
    "        for f in files_2023: data.extend(load_spot_prices_from_sdv_file(f, country, area))\n",
    "\n",
    "default_areas = {\n",
    "    'Estonia': 'Estonia',\n",
    "    'Finland': 'Finland',\n",
    "    'Latvia': 'Latvia',\n",
    "    'Lithuania': 'Lithuania'\n",
    "}\n",
    "for country_folder in [c for c in country_folders if c.split('/')[-1] in countries_without_areas]:\n",
    "    country = country_folder.split('/')[-1]\n",
    "    area = default_areas[country]\n",
    "    year_folders = [f.path for f in os.scandir(country_folder)\n",
    "                    if f.is_dir() and f.name.isdigit() and int(f.name) > 2013]\n",
    "    for year_folder in year_folders:\n",
    "        files = [f.path for f in os.scandir(year_folder)\n",
    "                 if f.is_file() and f.name.endswith('.sdv') and ('eur' in f.name)]\n",
    "        for f in files: data.extend(load_spot_prices_from_sdv_file(f, country, area))\n",
    "    files_2023 = [f.path for f in os.scandir(country_folder)\n",
    "                  if f.is_file() and f.name.endswith('.sdv') and ('eur' in f.name)]\n",
    "    for f in files_2023: data.extend(load_spot_prices_from_sdv_file(f, country, area))\n",
    "\n",
    "prices_df = pd.DataFrame(data,\n",
    "                         columns=['country', 'bidding_area', 'date', 'time_1', 'time_2', 'time_3A', 'time_3B', 'time_4',\n",
    "                                  'time_5', 'time_6', 'time_7', 'time_8', 'time_9', 'time_10', 'time_11', 'time_12',\n",
    "                                  'time_13', 'time_14', 'time_15', 'time_16', 'time_17', 'time_18', 'time_19',\n",
    "                                  'time_20', 'time_21', 'time_22', 'time_23', 'time_24'])"
   ],
   "metadata": {
    "collapsed": false
   }
  },
  {
   "cell_type": "code",
   "execution_count": 27,
   "outputs": [
    {
     "name": "stdout",
     "output_type": "stream",
     "text": [
      "<class 'pandas.core.frame.DataFrame'>\n",
      "RangeIndex: 1468000 entries, 0 to 1467999\n",
      "Data columns (total 5 columns):\n",
      " #   Column         Non-Null Count    Dtype         \n",
      "---  ------         --------------    -----         \n",
      " 0   country        1468000 non-null  object        \n",
      " 1   bidding_area   1468000 non-null  object        \n",
      " 2   date           1468000 non-null  datetime64[ns]\n",
      " 3   hour           1468000 non-null  object        \n",
      " 4   price_eur_mwh  1298304 non-null  float64       \n",
      "dtypes: datetime64[ns](1), float64(1), object(3)\n",
      "memory usage: 56.0+ MB\n"
     ]
    }
   ],
   "source": [
    "prices_df = prices_df.melt(id_vars=[\"country\", \"bidding_area\", \"date\"],\n",
    "                           var_name=\"hour\",\n",
    "                           value_name=\"price_eur_mwh\")\n",
    "prices_df.info()"
   ],
   "metadata": {
    "collapsed": false
   }
  },
  {
   "cell_type": "code",
   "execution_count": 28,
   "outputs": [],
   "source": [
    "prices_df['hour'] = prices_df.apply(lambda x: x['hour'].split('_')[-1], axis=1)\n",
    "prices_df['hour'] = prices_df.apply(lambda x: x['hour'].rstrip('A').rstrip('B'), axis=1)\n",
    "prices_df['hour'] = prices_df['hour'].astype('int8')\n",
    "prices_df = prices_df.dropna(subset=['price_eur_mwh', 'hour'])\n",
    "prices_df['date'] = prices_df.apply(lambda x: x['date'] + pd.to_timedelta(int(x['hour'])-1, unit='h'), axis=1)"
   ],
   "metadata": {
    "collapsed": false
   }
  },
  {
   "cell_type": "code",
   "execution_count": 29,
   "outputs": [
    {
     "name": "stdout",
     "output_type": "stream",
     "text": [
      "<class 'pandas.core.frame.DataFrame'>\n",
      "Int64Index: 1298304 entries, 0 to 1467710\n",
      "Data columns (total 4 columns):\n",
      " #   Column         Non-Null Count    Dtype         \n",
      "---  ------         --------------    -----         \n",
      " 0   country        1298304 non-null  category      \n",
      " 1   bidding_area   1298304 non-null  category      \n",
      " 2   date           1298304 non-null  datetime64[ns]\n",
      " 3   price_eur_mwh  1298304 non-null  float32       \n",
      "dtypes: category(2), datetime64[ns](1), float32(1)\n",
      "memory usage: 27.2 MB\n"
     ]
    }
   ],
   "source": [
    "prices_df.country = prices_df.country.astype('category')\n",
    "prices_df.bidding_area = prices_df.bidding_area.astype('category')\n",
    "prices_df.price_eur_mwh = prices_df.price_eur_mwh.astype('float32')\n",
    "prices_df = prices_df.drop('hour', axis=1)\n",
    "\n",
    "prices_df.info()"
   ],
   "metadata": {
    "collapsed": false
   }
  },
  {
   "cell_type": "code",
   "execution_count": 30,
   "outputs": [],
   "source": [
    "prices_df.to_parquet('spot_prices.parquet.gzip', compression='gzip')"
   ],
   "metadata": {
    "collapsed": false
   }
  }
 ],
 "metadata": {
  "kernelspec": {
   "display_name": "Python 3",
   "language": "python",
   "name": "python3"
  },
  "language_info": {
   "codemirror_mode": {
    "name": "ipython",
    "version": 2
   },
   "file_extension": ".py",
   "mimetype": "text/x-python",
   "name": "python",
   "nbconvert_exporter": "python",
   "pygments_lexer": "ipython2",
   "version": "2.7.6"
  }
 },
 "nbformat": 4,
 "nbformat_minor": 0
}
